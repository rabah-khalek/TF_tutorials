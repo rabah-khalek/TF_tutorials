{
 "cells": [
  {
   "cell_type": "markdown",
   "metadata": {},
   "source": [
    "# Gluon Dataset: Introduction to non-linear Regression using Tensorflow"
   ]
  },
  {
   "cell_type": "markdown",
   "metadata": {},
   "source": [
    "## Source\n",
    "\n",
    "https://github.com/rabah-khalek/TF_tutorials\n",
    "\n",
    "## Learning Goals##\n",
    "This notebook will serve as an introduction to the non-linear regression as well as the new extremely powerful TensorFlow library for Machine Learning (ML) from Google. We will also learn how to use the versatile Pandas package for handling data.\n",
    "\n",
    "\n",
    "## Overview##\n",
    "Throughout, we will work with the [Gluon dataset](https://github.com/rabah-khalek/TF_tutorials/tree/master/PseudoData). It computed using the [LHAPDF](https://lhapdf.hepforge.org) open source code, a general purpose C++ and python interpolator, used for evaluating PDFs from discretised data files.\n",
    "\n",
    "Here is the description of the Gluon dataset we will be playing around with for this notebook:\n",
    ">A gluon is an elementary particle that acts as the exchange particle (or gauge boson) for the strong force between quarks. It is analogous to the exchange of photons in the electromagnetic force between two charged particles. \n",
    "\n",
    ">In technical terms, gluons are vector gauge bosons that mediate strong interactions of quarks in quantum chromodynamics (QCD). Gluons themselves carry the color charge of the strong interaction. This is unlike the photon, which mediates the electromagnetic interaction but lacks an electric charge. Gluons therefore participate in the strong interaction in addition to mediating it, making QCD significantly harder to analyze than QED (quantum electrodynamics).\n",
    "\n",
    ">Because of the inherent non-perturbative nature of partons(quarks and gluon in general) which cannot be observed as free particles, parton densities cannot be calculated using perturbative QCD.\n",
    "Parton distribution functions are obtained by fitting observables to experimental data; they cannot be calculated using perturbative QCD.\n",
    "\n",
    "> The parton density function $f_i(x,Q)$ gives the probability of finding in the proton a parton of flavour $i$ (quarks or gluon) carrying a fraction $x$ of the proton momentum with $Q$ being the energy scale of the hard interaction. Cross sections are calculated by convo- luting the parton level cross section with the PDFs. Since QCD does not predict the parton content of the proton, the shapes of the PDFs are determined by a fit to data from experimental observables in various processes, using the DGLAP evolution equation.\n",
    "\n",
    "> This PseudoData is computed from such fit performed by the [NNPDF collaboration](http://nnpdf.mi.infn.it) that determines the structure of the proton using contemporary methods of artificial intelligence. NNPDF determines PDFs using as an unbiased modeling tool Neural Networks, trained using Genetic Algorithms and recently stochastic Gradient descent, and used to construct a Monte Carlo representation of PDFs and their uncertainties: a probability distribution in a space of functions.\n",
    "\n",
    "\n",
    "## Importing the Gluon data set with Pandas\n",
    "\n",
    "The dataset is a total of 1000 gluon PDF predictions computed between $x=[10^{-6},1]$ for $Q=2\\,GeV$.  \n",
    "<b> Exercise:</b> In what follows, use Pandas to import a random 800 x-points and call that the training data and import the rest 200 x-points and call that the test data.\n"
   ]
  },
  {
   "cell_type": "code",
   "execution_count": 1,
   "metadata": {},
   "outputs": [
    {
     "name": "stderr",
     "output_type": "stream",
     "text": [
      "/Users/rabah/Documents/miniconda3/envs/tutorials/lib/python3.6/site-packages/tensorflow/python/framework/dtypes.py:526: FutureWarning: Passing (type, 1) or '1type' as a synonym of type is deprecated; in a future version of numpy, it will be understood as (type, (1,)) / '(1,)type'.\n",
      "  _np_qint8 = np.dtype([(\"qint8\", np.int8, 1)])\n",
      "/Users/rabah/Documents/miniconda3/envs/tutorials/lib/python3.6/site-packages/tensorflow/python/framework/dtypes.py:527: FutureWarning: Passing (type, 1) or '1type' as a synonym of type is deprecated; in a future version of numpy, it will be understood as (type, (1,)) / '(1,)type'.\n",
      "  _np_quint8 = np.dtype([(\"quint8\", np.uint8, 1)])\n",
      "/Users/rabah/Documents/miniconda3/envs/tutorials/lib/python3.6/site-packages/tensorflow/python/framework/dtypes.py:528: FutureWarning: Passing (type, 1) or '1type' as a synonym of type is deprecated; in a future version of numpy, it will be understood as (type, (1,)) / '(1,)type'.\n",
      "  _np_qint16 = np.dtype([(\"qint16\", np.int16, 1)])\n",
      "/Users/rabah/Documents/miniconda3/envs/tutorials/lib/python3.6/site-packages/tensorflow/python/framework/dtypes.py:529: FutureWarning: Passing (type, 1) or '1type' as a synonym of type is deprecated; in a future version of numpy, it will be understood as (type, (1,)) / '(1,)type'.\n",
      "  _np_quint16 = np.dtype([(\"quint16\", np.uint16, 1)])\n",
      "/Users/rabah/Documents/miniconda3/envs/tutorials/lib/python3.6/site-packages/tensorflow/python/framework/dtypes.py:530: FutureWarning: Passing (type, 1) or '1type' as a synonym of type is deprecated; in a future version of numpy, it will be understood as (type, (1,)) / '(1,)type'.\n",
      "  _np_qint32 = np.dtype([(\"qint32\", np.int32, 1)])\n",
      "/Users/rabah/Documents/miniconda3/envs/tutorials/lib/python3.6/site-packages/tensorflow/python/framework/dtypes.py:535: FutureWarning: Passing (type, 1) or '1type' as a synonym of type is deprecated; in a future version of numpy, it will be understood as (type, (1,)) / '(1,)type'.\n",
      "  np_resource = np.dtype([(\"resource\", np.ubyte, 1)])\n"
     ]
    },
    {
     "name": "stdout",
     "output_type": "stream",
     "text": [
      "Data parsing is done!\n"
     ]
    }
   ],
   "source": [
    "# Importing the Gluon Data set\n",
    "import sys, os\n",
    "import pandas as pd\n",
    "from sklearn.model_selection import train_test_split\n",
    "\n",
    "import numpy as np\n",
    "import warnings\n",
    "#Commnet the next line on to turn off warnings\n",
    "#warnings.filterwarnings('ignore')\n",
    "\n",
    "\n",
    "seed=12\n",
    "np.random.seed(seed)\n",
    "import tensorflow as tf\n",
    "# suppress tflow compilation warnings\n",
    "os.environ['TF_CPP_MIN_LOG_LEVEL'] = '2'\n",
    "\n",
    "tf.set_random_seed(seed)\n",
    "\n",
    "# Download the SUSY.csv (about 2GB) from UCI ML archive and save it in the same directory as this jupyter notebook\n",
    "# See: https://archive.ics.uci.edu/ml/machine-learning-databases/00279/\n",
    "#filename=\"SUSY.csv\"\n",
    "filename='PseudoData/gluon_NNPDF31_nlo_pch_as_0118.dat' \n",
    "\n",
    "lines_to_skip = 5\n",
    "\n",
    "columns=[\"x\", \"gluon_cv\", \"gluon_sd\"]\n",
    "# Load 800 rows as train data, 200 as test data\n",
    "\n",
    "df = pd.read_csv(filename, \n",
    "                 sep=\"\\s+\", \n",
    "                 skiprows=lines_to_skip, \n",
    "                 usecols=[0,1,2], \n",
    "                 names=columns)\n",
    "\n",
    "df_train, df_test = train_test_split(df, test_size=0.2)\n",
    "\n",
    "df_train = df_train.sort_values(\"x\")\n",
    "df_test = df_test.sort_values(\"x\")\n",
    "\n",
    "print(\"Data parsing is done!\")\n"
   ]
  },
  {
   "cell_type": "markdown",
   "metadata": {},
   "source": [
    "## Building a Neural Network using TensorFlow##\n",
    "\n",
    "Our NN consists of one input, one output and 1 hidden layer. We are using ReLU as activation function of the hidden layer and softmax for our output layer. As an additional bonus we will use Dropout — simple way to reduce overfitting during the training of our network. Let’s wrap our model in a little helper function:"
   ]
  },
  {
   "cell_type": "code",
   "execution_count": 2,
   "metadata": {},
   "outputs": [],
   "source": [
    "%matplotlib inline\n",
    "import matplotlib as mpl\n",
    "import matplotlib.pyplot as plt\n",
    "from matplotlib import rc\n",
    "rc('font',**{'family':'serif','serif':['Times']})\n",
    "rc('text', usetex=True)\n",
    "import sys\n",
    "\n",
    "def multilayer_perceptron(x, weights, biases, keep_prob):\n",
    "    layer_1 = tf.add(tf.matmul(x, weights['h1']), biases['b1'])\n",
    "    layer_1 = tf.nn.relu(layer_1)\n",
    "    layer_1 = tf.nn.dropout(layer_1, keep_prob)\n",
    "    out_layer = tf.matmul(layer_1, weights['out']) + biases['out']\n",
    "    return out_layer\n",
    "\n",
    "def zscore(col):\n",
    "    mean = 3.04\n",
    "    std = 1.2\n",
    "    return (col - mean)/std"
   ]
  },
  {
   "cell_type": "markdown",
   "metadata": {},
   "source": [
    "Let’s set the number of neurons in the hidden layer to 10 and randomly initialize the weights and biases considering their proper dimensions:"
   ]
  },
  {
   "cell_type": "code",
   "execution_count": 33,
   "metadata": {},
   "outputs": [],
   "source": [
    "n_hidden_1 = 5\n",
    "n_input =  1 #df_train[\"x\"].shape[0]\n",
    "n_target =1 #df_train[\"gluon_cv\"].shape[0]\n",
    "\n",
    "\n",
    "weights = {\n",
    "    'h1': tf.Variable(tf.random_normal([n_input, n_hidden_1])),\n",
    "    'out': tf.Variable(tf.random_normal([n_hidden_1, n_target]))}\n",
    "\n",
    "biases = {\n",
    "    'b1': tf.Variable(tf.random_normal([n_hidden_1])),\n",
    "    'out': tf.Variable(tf.random_normal([n_target]))\n",
    "}\n",
    "\n",
    "keep_prob = tf.placeholder(\"float\")\n",
    "\n"
   ]
  },
  {
   "cell_type": "markdown",
   "metadata": {},
   "source": [
    "We will train our model for 5,000 epochs (training steps) with a batch size of 32. That is, at each step, we will train our NN using 32 rows of our data. Granted, in our case you can just train on the whole dataset. However, when the data is huge and you can’t fit it in memory, you would love to split it and feed it to the model at batches (chunks):"
   ]
  },
  {
   "cell_type": "code",
   "execution_count": 45,
   "metadata": {},
   "outputs": [
    {
     "name": "stdout",
     "output_type": "stream",
     "text": [
      "Epoch: 0001 cost= 0.023078671\n",
      "Epoch: 1001 cost= 1.254094338\n",
      "Epoch: 2001 cost= 2.095564117\n",
      "Epoch: 3001 cost= 2.821723006\n",
      "Epoch: 4001 cost= 3.466154348\n",
      "Optimization Finished!\n",
      "Accuracy: 1.0\n"
     ]
    }
   ],
   "source": [
    "training_epochs = 5000\n",
    "display_step = 1000\n",
    "\n",
    "x = tf.placeholder(\"float\", [None, 1])\n",
    "y = tf.placeholder(\"float\", [None, 1])\n",
    "sigma = tf.placeholder(\"float\", [None, 1])\n",
    "\n",
    "N_train = len(df_train[\"x\"])\n",
    "N_test = len(df_test[\"x\"])\n",
    "\n",
    "#feature_name = \"x\"\n",
    "#normalized_feature = tf.feature_column.numeric_column(\n",
    "#  feature_name,\n",
    "#  normalizer_fn=zscore)\n",
    "\n",
    "predictions = multilayer_perceptron(x, weights, biases, keep_prob)\n",
    "\n",
    "cost = tf.reduce_mean(tf.square(predictions-y)/sigma)\n",
    "\n",
    "optimizer = tf.train.AdamOptimizer(learning_rate=0.1).minimize(cost)\n",
    "\n",
    "train_x = np.array(df_train[\"x\"]).reshape(N_train,1)\n",
    "train_y = np.array(df_train[\"gluon_cv\"]).reshape(N_train,1)\n",
    "train_sigma = np.array(df_train[\"gluon_sd\"]).reshape(N_train,1)\n",
    "\n",
    "test_x = np.array(df_test[\"x\"]).reshape(N_test,1)\n",
    "test_y = np.array(df_test[\"gluon_cv\"]).reshape(N_test,1)\n",
    "test_sigma = np.array(df_test[\"gluon_sd\"]).reshape(N_test,1)\n",
    "\n",
    "with tf.Session() as sess:\n",
    "    sess.run(tf.global_variables_initializer())\n",
    "    avg_cost = 0.0\n",
    "    for epoch in range(training_epochs):\n",
    "\n",
    "        _, c = sess.run([optimizer, cost], \n",
    "                        feed_dict={\n",
    "                            x: train_x, \n",
    "                            y: train_y, \n",
    "                            sigma: train_sigma,\n",
    "                            keep_prob: 1\n",
    "                        })\n",
    "        avg_cost += c/N_train\n",
    "        \n",
    "        if epoch % display_step == 0:\n",
    "            print(\"Epoch:\", '%04d' % (epoch+1), \"cost=\", \\\n",
    "                \"{:.9f}\".format(avg_cost))\n",
    "    print(\"Optimization Finished!\")\n",
    "    predictions_values = sess.run(predictions, \n",
    "                        feed_dict={\n",
    "                            x: train_x, \n",
    "                            y: train_y,\n",
    "                            keep_prob: 0.8\n",
    "                        })\n",
    "    correct_prediction = tf.equal(tf.argmax(predictions, 1), tf.argmax(y, 1))\n",
    "    accuracy = tf.reduce_mean(tf.cast(correct_prediction, \"float\"))\n",
    "    print(\"Accuracy:\", accuracy.eval({x: test_x, y: test_y, sigma: test_sigma, keep_prob: 1.0}))\n",
    " \n"
   ]
  },
  {
   "cell_type": "markdown",
   "metadata": {},
   "source": [
    "## Plotting output\n"
   ]
  },
  {
   "cell_type": "code",
   "execution_count": 46,
   "metadata": {},
   "outputs": [
    {
     "data": {
      "image/png": "[encoded data removed]",
      "text/plain": [
       "<Figure size 720x720 with 1 Axes>"
      ]
     },
     "metadata": {
      "needs_background": "light"
     },
     "output_type": "display_data"
    }
   ],
   "source": [
    "#predictions = np.array(predictions_values.eval(session=tf.Session()))\n",
    "\n",
    "plt.figure(figsize=(10,10))\n",
    "ax = plt.subplot(111)\n",
    "ax.plot(df_train[\"x\"],df_train[\"gluon_cv\"],color='darkblue',label='$\\mu_{g}$')\n",
    "ax.plot(df_train[\"x\"],predictions_values,color='red',label='$NN_{g}$')\n",
    "ax.fill_between(df_train[\"x\"],df_train[\"gluon_cv\"]+df_train[\"gluon_sd\"],\n",
    "                df_train[\"gluon_cv\"]-df_train[\"gluon_sd\"] ,color='blue', \n",
    "                alpha=0.3, label='$\\sigma_{g}$')\n",
    "#df_train.plot(kind='line',x='x',y=['gluon_cv'], yerr='gluon_sd',color=['red'], ax=ax)\n",
    "ax.set_xscale('log')\n",
    "ax.set_ylabel(r'g(x)',fontsize=25)\n",
    "ax.set_xlabel(r'x',fontsize=25)\n",
    "ax.legend(loc='best',fontsize=20)\n",
    "plt.show()"
   ]
  },
  {
   "cell_type": "code",
   "execution_count": null,
   "metadata": {},
   "outputs": [],
   "source": []
  }
 ],
 "metadata": {
  "kernelspec": {
   "display_name": "Python 3",
   "language": "python",
   "name": "python3"
  },
  "language_info": {
   "codemirror_mode": {
    "name": "ipython",
    "version": 3
   },
   "file_extension": ".py",
   "mimetype": "text/x-python",
   "name": "python",
   "nbconvert_exporter": "python",
   "pygments_lexer": "ipython3",
   "version": "3.6.9"
  }
 },
 "nbformat": 4,
 "nbformat_minor": 2
}
